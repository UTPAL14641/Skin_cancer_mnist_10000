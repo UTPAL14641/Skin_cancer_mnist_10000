{
 "cells": [
  {
   "cell_type": "code",
   "execution_count": null,
   "id": "61c6d4c6",
   "metadata": {},
   "outputs": [],
   "source": [
    "import numpy as np\n",
    "import pandas as pd\n",
    "import matplotlib.pyplot as plt"
   ]
  },
  {
   "cell_type": "code",
   "execution_count": null,
   "id": "aaa4d92d",
   "metadata": {},
   "outputs": [],
   "source": [
    "import zipfile\n",
    "\n",
    "# Unzip the dataset\n",
    "local_zip = 'archive.zip'\n",
    "zip_ref = zipfile.ZipFile(local_zip, 'r')\n",
    "zip_ref.extractall('archive_file')\n",
    "zip_ref.close()"
   ]
  },
  {
   "cell_type": "code",
   "execution_count": null,
   "id": "addc0451",
   "metadata": {},
   "outputs": [],
   "source": [
    "import os\n",
    "from glob import glob\n",
    "from PIL import Image\n",
    "HAM10000_images_part_1 = os.path.join('./archive_file/HAM10000_images_part_1')\n",
    "HAM10000_images_part_2= os.path.join('./archive_file/HAM10000_images_part_2')\n",
    "HAM10000_metadata = os.path.join('./archive_file/HAM10000_metadata.csv')"
   ]
  },
  {
   "cell_type": "code",
   "execution_count": null,
   "id": "c8d40bea",
   "metadata": {},
   "outputs": [],
   "source": [
    "HAM10000_images_part_1"
   ]
  },
  {
   "cell_type": "code",
   "execution_count": null,
   "id": "8e55cec0",
   "metadata": {},
   "outputs": [],
   "source": [
    "HAM10000_images_part_1_name = os.listdir(HAM10000_images_part_1)\n",
    "print(HAM10000_images_part_1_name[:10])\n",
    "HAM10000_images_part_2_name = os.listdir(HAM10000_images_part_2)"
   ]
  },
  {
   "cell_type": "code",
   "execution_count": null,
   "id": "8a2fff1f",
   "metadata": {},
   "outputs": [],
   "source": [
    "for i in range(0,len(HAM10000_images_part_1_name)):\n",
    "    HAM10000_images_part_1_name[i] = r'./archive_file/HAM10000_images_part_1/' + HAM10000_images_part_1_name[i]"
   ]
  },
  {
   "cell_type": "code",
   "execution_count": null,
   "id": "61fe53b1",
   "metadata": {},
   "outputs": [],
   "source": [
    "for i in range(0,len(HAM10000_images_part_2_name)):\n",
    "    HAM10000_images_part_2_name[i] = r'./archive_file/HAM10000_images_part_2/' + HAM10000_images_part_2_name[i]"
   ]
  },
  {
   "cell_type": "code",
   "execution_count": null,
   "id": "730cd408",
   "metadata": {},
   "outputs": [],
   "source": [
    "HAM10000_images_part_merged = HAM10000_images_part_1_name+HAM10000_images_part_2_name"
   ]
  },
  {
   "cell_type": "code",
   "execution_count": null,
   "id": "c288a24d",
   "metadata": {},
   "outputs": [],
   "source": [
    "len(HAM10000_images_part_1_name)+len(HAM10000_images_part_2_name),len(HAM10000_images_part_merged)"
   ]
  },
  {
   "cell_type": "code",
   "execution_count": null,
   "id": "fcc668bb",
   "metadata": {},
   "outputs": [],
   "source": [
    "df = pd.read_csv(HAM10000_metadata)"
   ]
  },
  {
   "cell_type": "code",
   "execution_count": null,
   "id": "d74f4f5e",
   "metadata": {},
   "outputs": [],
   "source": [
    "df"
   ]
  },
  {
   "cell_type": "code",
   "execution_count": null,
   "id": "e423d70e",
   "metadata": {},
   "outputs": [],
   "source": [
    "HAM10000_images_part_merged"
   ]
  },
  {
   "cell_type": "code",
   "execution_count": null,
   "id": "0438ca91",
   "metadata": {},
   "outputs": [],
   "source": [
    "image_mapping = dict(zip(df['image_id'], HAM10000_images_part_merged))\n",
    "\n",
    "# Add a new column to the DataFrame with image addresses using the mapping\n",
    "df['path'] = df['image_id'].map(image_mapping)"
   ]
  },
  {
   "cell_type": "code",
   "execution_count": null,
   "id": "250be479",
   "metadata": {},
   "outputs": [],
   "source": [
    "df"
   ]
  },
  {
   "cell_type": "code",
   "execution_count": null,
   "id": "5d162150",
   "metadata": {},
   "outputs": [],
   "source": [
    "df['image'] = df['path'].map(lambda x: np.asarray(Image.open(x).resize((96,96))))"
   ]
  },
  {
   "cell_type": "code",
   "execution_count": null,
   "id": "9289c486",
   "metadata": {},
   "outputs": [],
   "source": [
    "print(df['dx'].value_counts())"
   ]
  },
  {
   "cell_type": "code",
   "execution_count": null,
   "id": "5ca7ad40",
   "metadata": {},
   "outputs": [],
   "source": [
    "lesion_type_dict = {\n",
    "    'nv': 'Melanocytic nevi',\n",
    "    'mel': 'dermatofibroma',\n",
    "    'bkl': 'Benign keratosis-like lesions ',\n",
    "    'bcc': 'Basal cell carcinoma',\n",
    "    'akiec': 'Actinic keratoses',\n",
    "    'vasc': 'Vascular lesions',\n",
    "    'df': 'Dermatofibroma'\n",
    "}"
   ]
  },
  {
   "cell_type": "code",
   "execution_count": null,
   "id": "012e1787",
   "metadata": {},
   "outputs": [],
   "source": [
    "df['cell_type'] = df['dx'].map(lesion_type_dict.get)"
   ]
  },
  {
   "cell_type": "code",
   "execution_count": null,
   "id": "44ea0cbc",
   "metadata": {},
   "outputs": [],
   "source": [
    "df['cell_type_idx'] = pd.Categorical(df['cell_type']).codes"
   ]
  },
  {
   "cell_type": "code",
   "execution_count": null,
   "id": "3e62575e",
   "metadata": {},
   "outputs": [],
   "source": [
    "df['cell_type_idx'].unique()"
   ]
  },
  {
   "cell_type": "code",
   "execution_count": null,
   "id": "244a4321",
   "metadata": {},
   "outputs": [],
   "source": [
    "df.isna().sum()"
   ]
  },
  {
   "cell_type": "code",
   "execution_count": null,
   "id": "f75ec61d",
   "metadata": {},
   "outputs": [],
   "source": [
    "df['age'].fillna((df['age'].median()), inplace = True)"
   ]
  },
  {
   "cell_type": "code",
   "execution_count": null,
   "id": "80a1b372",
   "metadata": {},
   "outputs": [],
   "source": [
    "df['image'].map(lambda x: x.shape).value_counts()"
   ]
  },
  {
   "cell_type": "code",
   "execution_count": null,
   "id": "534a9ad1",
   "metadata": {},
   "outputs": [],
   "source": [
    "df['image']=df['image']/255"
   ]
  },
  {
   "cell_type": "code",
   "execution_count": null,
   "id": "7edd3d3a",
   "metadata": {
    "scrolled": true
   },
   "outputs": [],
   "source": [
    "df.head()"
   ]
  },
  {
   "cell_type": "code",
   "execution_count": null,
   "id": "ee1eb700",
   "metadata": {},
   "outputs": [],
   "source": [
    "from tensorflow.keras.utils import to_categorical\n",
    "X = df.drop(columns = ['cell_type_idx'], axis = 1)\n",
    "y = df['cell_type_idx']\n",
    "y = to_categorical(y, num_classes = 7)"
   ]
  },
  {
   "cell_type": "code",
   "execution_count": null,
   "id": "c810e561",
   "metadata": {},
   "outputs": [],
   "source": [
    "from sklearn.model_selection import train_test_split\n",
    "X_train, X_test, y_train, y_test = train_test_split(X, y, test_size = 0.1)"
   ]
  },
  {
   "attachments": {},
   "cell_type": "markdown",
   "id": "81251a03",
   "metadata": {},
   "source": [
    "X_train_i = np.asarray(X_train['image'].tolist())\n",
    "X_test_i = np.asarray(X_test['image'].tolist())"
   ]
  },
  {
   "attachments": {},
   "cell_type": "markdown",
   "id": "94ac0934",
   "metadata": {},
   "source": [
    "X_train_norm = (X_train_i - np.mean(X_train_i))/np.std(X_train_i)\n",
    "X_test_norm = (X_test_i - np.mean(X_test_i))/np.std(X_test_i)"
   ]
  },
  {
   "cell_type": "code",
   "execution_count": null,
   "id": "b223e1c2",
   "metadata": {},
   "outputs": [],
   "source": [
    "#let's create a balanced dataset as well"
   ]
  },
  {
   "cell_type": "code",
   "execution_count": null,
   "id": "603adf98",
   "metadata": {},
   "outputs": [],
   "source": [
    "desired_rows_per_class = 600\n",
    "\n",
    "grouped = df.groupby('cell_type_idx')\n",
    "\n",
    "balanced_df = pd.DataFrame()\n",
    "\n",
    "# Iterate over each group\n",
    "for group, data in grouped:\n",
    "    # Sample the desired number of rows from each group\n",
    "    sampled_data = data.sample(n=desired_rows_per_class,replace= True, random_state=42)\n",
    "    # Append the sampled data to the balanced DataFrame\n",
    "    balanced_df = balanced_df.append(sampled_data)\n",
    "\n",
    "# Reset the index of the balanced DataFrame\n",
    "balanced_df = balanced_df.reset_index(drop=True)"
   ]
  },
  {
   "cell_type": "code",
   "execution_count": null,
   "id": "339f01a0",
   "metadata": {},
   "outputs": [],
   "source": [
    "balanced_df.head()"
   ]
  },
  {
   "cell_type": "code",
   "execution_count": null,
   "id": "82fdbc05",
   "metadata": {},
   "outputs": [],
   "source": [
    "X_sample = balanced_df.drop(columns = ['cell_type_idx'], axis = 1)\n",
    "y_sample = balanced_df['cell_type_idx']\n",
    "y_sample = to_categorical(y_sample, num_classes = 7)"
   ]
  },
  {
   "cell_type": "code",
   "execution_count": null,
   "id": "9ff2ac9c",
   "metadata": {},
   "outputs": [],
   "source": [
    "X_sample_i = np.asarray(X_sample['image'].tolist())"
   ]
  },
  {
   "cell_type": "code",
   "execution_count": null,
   "id": "77d7e059",
   "metadata": {},
   "outputs": [],
   "source": [
    "X_sample_norm = (X_sample_i - np.mean(X_sample_i))/np.std(X_sample_i)"
   ]
  },
  {
   "cell_type": "code",
   "execution_count": null,
   "id": "9ac11b93",
   "metadata": {},
   "outputs": [],
   "source": [
    "X_train_s, X_test_s, y_train_s, y_test_s = train_test_split(X_sample_norm, y_sample, test_size = 0.2)"
   ]
  },
  {
   "cell_type": "code",
   "execution_count": null,
   "id": "20d38b08",
   "metadata": {},
   "outputs": [],
   "source": [
    "from tensorflow.keras.models import Sequential\n",
    "from tensorflow.keras.layers import Dense\n",
    "from tensorflow.keras.layers import  Conv2D,MaxPool2D, Dropout, Flatten,  BatchNormalization"
   ]
  },
  {
   "cell_type": "code",
   "execution_count": null,
   "id": "13419ab0",
   "metadata": {},
   "outputs": [],
   "source": [
    "#model 1\n",
    "#suggested by autokeras\n",
    "num_classes = 7\n",
    "\n",
    "model = Sequential()\n",
    "model.add(Conv2D(256, (3, 3), activation=\"relu\", input_shape=(96, 96, 3)))\n",
    "#model.add(BatchNormalization())\n",
    "model.add(MaxPool2D(pool_size=(2, 2)))  \n",
    "model.add(Dropout(0.3))\n",
    "\n",
    "model.add(Conv2D(128, (3, 3),activation='relu'))\n",
    "#model.add(BatchNormalization())\n",
    "model.add(MaxPool2D(pool_size=(2, 2)))  \n",
    "model.add(Dropout(0.3))\n",
    "\n",
    "model.add(Conv2D(64, (3, 3),activation='relu'))\n",
    "#model.add(BatchNormalization())\n",
    "model.add(MaxPool2D(pool_size=(2, 2)))  \n",
    "model.add(Dropout(0.3))\n",
    "model.add(Flatten())\n",
    "\n",
    "model.add(Dense(32))\n",
    "model.add(Dense(7, activation='softmax'))\n",
    "model.summary()"
   ]
  },
  {
   "cell_type": "code",
   "execution_count": null,
   "id": "c92ffaac",
   "metadata": {},
   "outputs": [],
   "source": [
    "model.compile(loss='categorical_crossentropy', optimizer='Adam', metrics=['acc'])"
   ]
  },
  {
   "cell_type": "code",
   "execution_count": null,
   "id": "a9329835",
   "metadata": {},
   "outputs": [],
   "source": [
    "history = model.fit(\n",
    "    X_train_s, y_train_s,\n",
    "    epochs=50,\n",
    "    batch_size = 40,\n",
    "    validation_data=(X_test_s, y_test_s),\n",
    "    verbose=10)"
   ]
  },
  {
   "cell_type": "code",
   "execution_count": null,
   "id": "31aade5f",
   "metadata": {},
   "outputs": [],
   "source": [
    "score = model.evaluate(X_test_s, y_test_s)\n",
    "print('Test accuracy:', score)"
   ]
  },
  {
   "cell_type": "code",
   "execution_count": null,
   "id": "aaa12ad7",
   "metadata": {},
   "outputs": [],
   "source": [
    "#plot the training and validation accuracy and loss at each epoch\n",
    "loss = history.history['loss']\n",
    "val_loss = history.history['val_loss']\n",
    "epochs = range(1, len(loss) + 1)\n",
    "plt.plot(epochs, loss, 'y', label='Training loss')\n",
    "plt.plot(epochs, val_loss, 'r', label='Validation loss')\n",
    "plt.title('Training and validation loss')\n",
    "plt.xlabel('Epochs')\n",
    "plt.ylabel('Loss')\n",
    "plt.legend()\n",
    "plt.show()"
   ]
  },
  {
   "cell_type": "code",
   "execution_count": null,
   "id": "c100a6f7",
   "metadata": {},
   "outputs": [],
   "source": [
    "acc = history.history['acc']\n",
    "val_acc = history.history['val_acc']\n",
    "plt.plot(epochs, acc, 'y', label='Training acc')\n",
    "plt.plot(epochs, val_acc, 'r', label='Validation acc')\n",
    "plt.title('Training and validation accuracy')\n",
    "plt.xlabel('Epochs')\n",
    "plt.ylabel('Accuracy')\n",
    "plt.legend()\n",
    "plt.show()"
   ]
  },
  {
   "cell_type": "code",
   "execution_count": null,
   "id": "8b78da85",
   "metadata": {},
   "outputs": [],
   "source": [
    "from sklearn.metrics import confusion_matrix\n",
    "# Prediction on test data\n",
    "y_pred = model.predict(X_test_s)\n",
    "# Convert predictions classes to one hot vectors \n",
    "y_pred_classes = np.argmax(y_pred, axis = 1) \n",
    "# Convert test data to one hot vectors\n",
    "y_true = np.argmax(y_test_s, axis = 1) \n",
    "#Print confusion matrix\n",
    "cm = confusion_matrix(y_true, y_pred_classes)\n",
    "cm"
   ]
  },
  {
   "cell_type": "code",
   "execution_count": null,
   "id": "8a660049",
   "metadata": {},
   "outputs": [],
   "source": [
    "# model2 \n",
    "from keras.applications import MobileNetV2\n",
    "from tensorflow.keras.applications.vgg16 import VGG16"
   ]
  },
  {
   "cell_type": "code",
   "execution_count": null,
   "id": "7476558f",
   "metadata": {},
   "outputs": [],
   "source": [
    "base_model=MobileNetV2(include_top=False, weights=\"imagenet\", input_shape=(96,96,3))\n",
    "\n",
    "model2 = Sequential()\n",
    "model2.add(base_model)\n",
    "model2.add(Conv2D(64, (3, 3), activation = 'relu'))\n",
    "model2.add(MaxPooling2D(pool_size = (2, 2)))\n",
    "model2.add(Dropout(0.40))\n",
    "model2.add(Flatten())\n",
    "model2.add(Dense(128,activation='relu'))\n",
    "model2.add(Dropout(0.4))\n",
    "model2.add(Dense(7, activation='softmax'))"
   ]
  },
  {
   "cell_type": "code",
   "execution_count": null,
   "id": "27ef0360",
   "metadata": {},
   "outputs": [],
   "source": [
    "model2.compile(loss='categorical_crossentropy', optimizer='Adam', metrics=['acc'])"
   ]
  },
  {
   "cell_type": "code",
   "execution_count": null,
   "id": "1fc55800",
   "metadata": {},
   "outputs": [],
   "source": [
    "history2 = model2.fit(\n",
    "    X_train_s, y_train_s,\n",
    "    epochs=40,\n",
    "    batch_size = 50,\n",
    "    validation_data=(X_test_s, y_test_s),\n",
    "    verbose=2)"
   ]
  },
  {
   "cell_type": "code",
   "execution_count": null,
   "id": "21564e8e",
   "metadata": {},
   "outputs": [],
   "source": []
  }
 ],
 "metadata": {
  "kernelspec": {
   "display_name": "Python 3 (ipykernel)",
   "language": "python",
   "name": "python3"
  },
  "language_info": {
   "codemirror_mode": {
    "name": "ipython",
    "version": 3
   },
   "file_extension": ".py",
   "mimetype": "text/x-python",
   "name": "python",
   "nbconvert_exporter": "python",
   "pygments_lexer": "ipython3",
   "version": "3.9.12"
  }
 },
 "nbformat": 4,
 "nbformat_minor": 5
}
